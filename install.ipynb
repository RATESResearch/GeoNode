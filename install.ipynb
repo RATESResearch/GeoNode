{
 "cells": [
  {
   "cell_type": "markdown",
   "metadata": {},
   "source": [
    "## Create an LXD Container to run Docker\n",
    "\n",
    "Adapted from https://ubuntu.com/tutorials/how-to-run-docker-inside-lxd-containers\n",
    "\n",
    "1. Create a btrfs storage pool called \"docker\""
   ]
  },
  {
   "cell_type": "code",
   "execution_count": 1,
   "metadata": {},
   "outputs": [
    {
     "name": "stdout",
     "output_type": "stream",
     "text": [
      "Storage pool docker created\n"
     ]
    }
   ],
   "source": [
    "!lxc storage create docker btrfs"
   ]
  },
  {
   "cell_type": "markdown",
   "metadata": {},
   "source": [
    "2. Create the lxd container to run geonode"
   ]
  },
  {
   "cell_type": "code",
   "execution_count": null,
   "metadata": {},
   "outputs": [],
   "source": [
    "!ansible-playbook create.yml"
   ]
  },
  {
   "cell_type": "markdown",
   "metadata": {},
   "source": [
    "3. Create a new storage volume on the “docker” storage pool "
   ]
  },
  {
   "cell_type": "code",
   "execution_count": 2,
   "metadata": {},
   "outputs": [
    {
     "name": "stdout",
     "output_type": "stream",
     "text": [
      "Storage volume dockerlib created\n"
     ]
    }
   ],
   "source": [
    "!lxc storage volume create docker dockerlib"
   ]
  },
  {
   "cell_type": "markdown",
   "metadata": {},
   "source": [
    "4. Attach the dockerlib volume to the geonode container"
   ]
  },
  {
   "cell_type": "code",
   "execution_count": 3,
   "metadata": {},
   "outputs": [
    {
     "name": "stdout",
     "output_type": "stream",
     "text": [
      "Device docker added to geonode\n"
     ]
    }
   ],
   "source": [
    "!lxc config device add geonode docker disk pool=docker source=dockerlib path=/var/lib/docker"
   ]
  },
  {
   "cell_type": "markdown",
   "metadata": {},
   "source": [
    "5. Add additional configuration so that Docker works well inside the container."
   ]
  },
  {
   "cell_type": "code",
   "execution_count": 4,
   "metadata": {},
   "outputs": [],
   "source": [
    "!lxc config set geonode security.nesting=true security.syscalls.intercept.mknod=true security.syscalls.intercept.setxattr=true"
   ]
  },
  {
   "cell_type": "markdown",
   "metadata": {},
   "source": [
    "6. Restart the geonode instance"
   ]
  },
  {
   "cell_type": "code",
   "execution_count": 5,
   "metadata": {},
   "outputs": [],
   "source": [
    "!lxc restart geonode"
   ]
  },
  {
   "cell_type": "markdown",
   "metadata": {},
   "source": []
  },
  {
   "cell_type": "markdown",
   "metadata": {},
   "source": [
    "## Install Docker"
   ]
  },
  {
   "cell_type": "code",
   "execution_count": 9,
   "metadata": {},
   "outputs": [
    {
     "name": "stdout",
     "output_type": "stream",
     "text": [
      "Hit:1 http://security.ubuntu.com/ubuntu jammy-security InRelease\n",
      "Hit:2 https://download.docker.com/linux/ubuntu jammy InRelease             \n",
      "Hit:3 http://archive.ubuntu.com/ubuntu jammy InRelease\n",
      "Hit:4 http://archive.ubuntu.com/ubuntu jammy-updates InRelease\n",
      "Hit:5 http://archive.ubuntu.com/ubuntu jammy-backports InRelease\n",
      "Reading package lists... Done\n",
      "Reading package lists... Done\n",
      "Building dependency tree... Done\n",
      "Reading state information... Done\n",
      "lsb-release is already the newest version (11.1.0ubuntu4).\n",
      "ca-certificates is already the newest version (20230311ubuntu0.22.04.1).\n",
      "curl is already the newest version (7.81.0-1ubuntu1.15).\n",
      "gnupg is already the newest version (2.2.27-3ubuntu2.1).\n",
      "0 upgraded, 0 newly installed, 0 to remove and 1 not upgraded.\n",
      "Hit:1 https://download.docker.com/linux/ubuntu jammy InRelease\n",
      "Hit:2 http://security.ubuntu.com/ubuntu jammy-security InRelease            \n",
      "Hit:3 http://archive.ubuntu.com/ubuntu jammy InRelease\n",
      "Hit:4 http://archive.ubuntu.com/ubuntu jammy-updates InRelease\n",
      "Hit:5 http://archive.ubuntu.com/ubuntu jammy-backports InRelease\n",
      "Reading package lists... Done\n",
      "Reading package lists... Done\n",
      "Building dependency tree... Done\n",
      "Reading state information... Done\n",
      "containerd.io is already the newest version (1.6.28-1).\n",
      "docker-ce-cli is already the newest version (5:25.0.3-1~ubuntu.22.04~jammy).\n",
      "docker-ce is already the newest version (5:25.0.3-1~ubuntu.22.04~jammy).\n",
      "0 upgraded, 0 newly installed, 0 to remove and 1 not upgraded.\n"
     ]
    }
   ],
   "source": [
    "!lxc exec geonode -- apt-get update\n",
    "!lxc exec geonode -- apt-get -y install ca-certificates curl gnupg lsb-release\n",
    "!lxc exec geonode -- rm -rf /usr/share/keyrings/docker-archive-keyring.gpg\n",
    "!lxc exec geonode -- bash -c \"curl -fsSL https://download.docker.com/linux/ubuntu/gpg | gpg --dearmor -o /usr/share/keyrings/docker-archive-keyring.gpg\"\n",
    "!lxc exec geonode -- bash -c 'echo \"deb [arch=$(dpkg --print-architecture) signed-by=/usr/share/keyrings/docker-archive-keyring.gpg] https://download.docker.com/linux/ubuntu $(lsb_release -cs) stable\" | tee /etc/apt/sources.list.d/docker.list > /dev/null'\n",
    "!lxc exec geonode -- apt-get update\n",
    "!lxc exec geonode -- apt-get install -y docker-ce docker-ce-cli containerd.io\n",
    "!lxc exec geonode -- usermod -aG docker anernest"
   ]
  },
  {
   "cell_type": "markdown",
   "metadata": {},
   "source": [
    "## Add Stumble fileshare"
   ]
  },
  {
   "cell_type": "code",
   "execution_count": 11,
   "metadata": {},
   "outputs": [
    {
     "name": "stdout",
     "output_type": "stream",
     "text": [
      "Device stumbledir added to geonode\n"
     ]
    }
   ],
   "source": [
    "# !lxc exec geonode -- mkdir -p /Stumble\n",
    "!lxc config device add geonode stumbledir disk source=/Stumble path=/Stumble recursive=true"
   ]
  },
  {
   "cell_type": "code",
   "execution_count": null,
   "metadata": {},
   "outputs": [],
   "source": [
    "!lxc exec geonode -- docker compose -f /Stumble/BumbleBrain/GeoNode/docker-compose.yml run -d"
   ]
  }
 ],
 "metadata": {
  "kernelspec": {
   "display_name": "geonode",
   "language": "python",
   "name": "python3"
  },
  "language_info": {
   "codemirror_mode": {
    "name": "ipython",
    "version": 3
   },
   "file_extension": ".py",
   "mimetype": "text/x-python",
   "name": "python",
   "nbconvert_exporter": "python",
   "pygments_lexer": "ipython3",
   "version": "3.11.8"
  }
 },
 "nbformat": 4,
 "nbformat_minor": 2
}
